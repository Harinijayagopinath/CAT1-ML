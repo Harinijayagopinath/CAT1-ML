{
 "cells": [
  {
   "cell_type": "markdown",
   "id": "3316cb7c",
   "metadata": {},
   "source": [
    "Q1 Generating 1000 Random Numbers"
   ]
  },
  {
   "cell_type": "code",
   "execution_count": 101,
   "id": "c8e45aa9",
   "metadata": {},
   "outputs": [],
   "source": [
    "import pandas as pd\n",
    "import numpy as np"
   ]
  },
  {
   "cell_type": "code",
   "execution_count": 102,
   "id": "64c3f6c8",
   "metadata": {},
   "outputs": [],
   "source": [
    "x = (np.random.rand(1000)*100)\n",
    "x= np.asarray(x,dtype='int')\n",
    "y = x+np.random.normal(0,45,1000)\n",
    "y= np.asarray(y,dtype='int')"
   ]
  },
  {
   "cell_type": "code",
   "execution_count": 103,
   "id": "b7fff7f2",
   "metadata": {},
   "outputs": [
    {
     "data": {
      "text/plain": [
       "(array([85, 87, 13, 99,  3,  3, 36, 80, 12, 23, 60, 81, 20, 50, 87,  6, 77,\n",
       "        86, 32, 58, 97,  1, 35, 36, 49, 16, 42, 41,  1, 69, 28, 84, 22,  6,\n",
       "        49, 40, 30, 47, 71, 32, 65, 33, 33, 93, 27, 77, 88, 18, 72,  7, 93,\n",
       "         4, 99, 74,  1, 39, 65,  5, 11, 50, 46, 49, 96, 18,  0, 42, 34, 88,\n",
       "        21,  1, 80, 47, 61, 65, 32, 32, 18,  2, 33, 47, 84, 74, 28, 47, 89,\n",
       "        58, 68, 80, 20, 40, 74, 65, 19, 60, 61, 24, 26, 40, 51, 73, 76, 48,\n",
       "        18, 43,  6, 80, 72, 76, 58, 72, 45, 59, 93, 18, 72, 61,  3, 72, 91,\n",
       "        58, 44,  8,  8, 82, 23, 97, 44, 62, 23, 30, 16, 32, 55, 35, 56,  7,\n",
       "        43,  9, 84, 61, 40,  3, 66, 88, 20, 68, 77, 50, 81, 73, 19, 49, 90,\n",
       "        53, 13, 40, 14, 50, 67, 43, 25, 83,  1, 61, 25, 91, 14, 39, 75, 97,\n",
       "        88, 78, 20, 44, 89, 41, 37, 83, 41, 63, 41, 38, 78, 38, 18, 80,  2,\n",
       "        42, 54, 42, 61, 14, 90, 24,  3, 23, 42, 42, 55, 44, 69, 33, 89, 88,\n",
       "        61, 22, 62, 30, 32, 72, 53, 51, 79, 25, 48, 59, 55, 41, 18, 27, 64,\n",
       "        18, 45, 77, 45, 38, 27, 87,  2, 82, 97, 92, 87, 11, 84, 73, 83, 94,\n",
       "        24, 48, 91, 42, 56, 86, 13, 61, 27, 55, 45, 32, 23, 92, 14, 30, 58,\n",
       "        36, 74, 59, 82, 68, 57, 78,  2, 49, 11, 80, 55, 68, 50, 58,  4, 76,\n",
       "        73, 53, 16, 23, 74, 46, 80, 81, 74, 21, 47, 15, 94, 70, 62, 53,  8,\n",
       "        91, 87, 59, 60, 44, 24, 23, 50, 68, 58, 42, 78, 26, 39, 36, 61, 43,\n",
       "        27, 47, 69, 95,  1, 69, 25, 14, 57, 22, 12,  3, 60, 50, 66, 63, 17,\n",
       "        97, 86, 36, 86,  6, 86, 15, 49, 80,  4, 52, 17, 56, 56, 35, 50, 91,\n",
       "        99,  2, 32, 85, 74, 62, 73, 93, 74, 12, 48, 41, 74, 86, 26, 31,  0,\n",
       "        64, 58, 78, 84, 61, 92, 45, 34, 24, 85, 93, 42, 47,  8, 61, 49, 12,\n",
       "        69, 45, 54, 84,  7,  6, 47,  2, 13, 31, 92, 62, 45, 39, 49, 63, 74,\n",
       "        80,  5, 10, 42, 49, 66, 56, 68, 16, 19, 61, 56, 10, 77, 66, 70, 90,\n",
       "        89, 21, 44, 66, 79,  5, 73, 66, 99, 15, 64, 34, 43, 95,  5, 97, 85,\n",
       "        63, 60, 27, 71,  4, 46, 45, 72, 51, 13,  9, 93, 22, 96, 19, 35, 94,\n",
       "        39, 27, 91, 30, 37, 84, 53, 48, 93, 85, 41, 65, 29, 61, 15, 79, 98,\n",
       "         1, 83,  0, 91, 88, 53, 40, 88, 95, 56, 53, 47, 19, 46, 46, 33, 16,\n",
       "        25, 47, 78, 72, 43, 33, 56, 84, 23, 15, 52, 81, 42, 15, 26,  2, 59,\n",
       "        61, 73, 83, 48, 93, 97, 76, 12, 97, 51, 98, 76, 31, 33, 84, 28, 50,\n",
       "        26, 51, 21, 18, 22, 96, 12, 77, 14, 33, 68, 59, 59, 83, 92, 70, 87,\n",
       "        60, 45, 29, 96, 91, 75,  5, 24,  3, 89,  4, 34, 57, 53, 45, 12, 77,\n",
       "        68, 38, 32, 73, 49, 64, 77, 94, 34, 94, 45, 39, 98, 58, 81, 15, 30,\n",
       "        11, 37, 36, 82, 14, 81, 76, 54,  0, 25, 72, 35, 54, 93, 23, 96, 27,\n",
       "        31, 72, 29,  9, 42, 11, 27, 70, 17, 67, 80, 45, 23, 75, 94, 99, 65,\n",
       "        55, 98, 64, 52, 63, 74, 13, 76, 32, 32, 63, 69, 86, 87, 86, 84, 98,\n",
       "        69, 15, 48, 18, 41, 12, 45, 53, 45, 14, 44, 39, 45, 80, 33, 94,  9,\n",
       "        87, 86, 45, 15, 89, 33, 53, 71, 29, 20, 89, 31, 57, 67, 69, 92, 34,\n",
       "        90, 73, 30, 77, 16, 75, 82,  2, 21,  9,  5, 98, 15, 83,  1, 21, 11,\n",
       "        41, 90, 78, 66, 26, 49, 34, 88, 11, 17, 78, 19, 25, 84, 69, 83, 72,\n",
       "        23, 38, 58, 74, 31, 94, 12, 80, 44,  8, 37, 71,  7, 35, 81, 77,  7,\n",
       "        17, 71, 92,  8, 88, 54, 89, 48, 65, 12, 39, 80, 55, 35, 61, 20, 48,\n",
       "        21, 13, 84, 94, 60, 45, 32, 13, 93, 71, 71,  3, 26, 82, 25, 48, 28,\n",
       "        67, 15, 88, 90, 38, 10, 13, 24, 61, 89, 57, 58, 87, 94, 66,  9,  7,\n",
       "        94, 39, 37, 78, 10,  4, 77, 76, 86, 89, 64, 79,  4, 88, 38, 27, 80,\n",
       "        12, 59, 26, 31, 78, 14, 76, 54, 82, 51, 57, 81, 26, 77, 87, 91, 16,\n",
       "        94, 93, 25, 45, 84, 78, 40, 21, 30, 88, 66,  1, 24, 63, 50, 17, 14,\n",
       "        21, 27,  4, 95, 74, 46, 23, 70, 59, 70, 48, 60, 30,  2, 93, 99, 57,\n",
       "        98, 41, 66, 49, 41, 33, 41,  6, 85, 77, 15, 58, 23, 60, 52, 68, 50,\n",
       "         2, 18, 43, 52, 41,  1,  3, 80, 71, 48, 77, 78, 45, 11, 91,  0, 51,\n",
       "        36, 75, 26, 70, 56, 53, 77, 37, 90, 48,  6, 63,  7, 55, 71, 11, 57,\n",
       "        23, 23, 19,  5, 34, 16, 11, 68, 13, 22, 41, 28, 75, 98, 32, 93, 65,\n",
       "         1, 47, 64, 94, 44, 18, 34, 33,  8, 13, 51,  1, 16, 40, 46, 79, 34,\n",
       "        77, 71, 35,  1, 35, 77, 45, 61, 82, 28, 30, 43, 55, 93,  7, 43, 37,\n",
       "        98, 56, 29, 19, 81,  7, 25, 54, 74, 36, 82,  3, 14, 92, 28, 70, 93,\n",
       "        76, 66,  2, 13, 16, 85, 80, 23, 94, 45,  2, 22, 98, 93, 45, 27, 79,\n",
       "        55, 58, 22,  0, 83, 55, 24, 94, 20, 64, 91, 82, 41, 22,  6, 55,  9,\n",
       "        61, 76, 36, 30, 52, 59, 47, 76,  1, 34, 74, 68, 51, 82, 23, 73, 75,\n",
       "        99, 79, 11, 82, 19, 93, 56,  7, 26, 45, 89, 74, 30, 28]),\n",
       " array([  44,   31,  -25,   44,   56,   52,   34,   70,  -26,  -66,   55,\n",
       "         116,  -38,    7,   88,   13,   68,   39,   34,   55,  155,   45,\n",
       "          42,  -24,   87,  -31,   16,   13,  -32,    6,   89,  102,   29,\n",
       "          -3,   -7,   92,   18,   27,   81,   11,   73,   85,    7,   62,\n",
       "          29,   43,   22,    2,   18,   -7,  169,   84,   88,   78,  -35,\n",
       "          25,   79,  -39,  -73,   98,  183,   66,  125,   18,   -8,   42,\n",
       "          46,   53,   51,  -34,  122,   71,   24,   13,   21,   56,   74,\n",
       "         -28,   97,   81,   -3,   71,    7,   48,   93,   64,   53,   97,\n",
       "         -90,  -32,  123,   76,   70,   17,   62,   41,   32,   46,   -4,\n",
       "         102,   47,   90,   41,   61,  -73,   63,  168,  137,   34,   75,\n",
       "         149,   73,  108,   10,   12,   43,  -18,   98,  105,  102,  -25,\n",
       "          63,   83,  108,   57,   37,   10,   74,   73,   34,   37,   15,\n",
       "          18,   90,   69,   34,   -7,   50,  197,   71,  -60,  -29,  102,\n",
       "          86,   44,   32,   87,   41,  147,    1,  -32,  128,   69,   21,\n",
       "          71,   10,   15,   12,  105,   75,   36,  104,   20,   91,   11,\n",
       "         143,  -45,   13,   19,  127,   19,  151,  -37,   83,   60,   28,\n",
       "         -49,  194,   50,   40,    9,   46,   32,   52, -113,   28,  -42,\n",
       "         -38,   84,   68,   77,   27,   86,   68,   17,   48,   56,   33,\n",
       "         116,   67,  111,   66,  102,   72,  106,   32,   -9,   50,   32,\n",
       "         -13,   84,   44,   53,   18,  -50,  158,   -7,   41,   64,  -45,\n",
       "         112,   -4,    5,  128,   18,   41,   47,   15,    8,  106,  102,\n",
       "          87,   64,   -4,   73,   90,  114,  127,   45,   46,   81,  141,\n",
       "          31,  105,   57,   44,   57,   30,   59,   35,  -31,  120,   88,\n",
       "          92,   -7,  123,   49,   34,  115,   76,    0,   48,   44,  106,\n",
       "         -13,  135,   82,   28,    4,   36,   -9,  105,  102,   76,   90,\n",
       "          89,   32,   68,   34,   44,   79,   24,   65,  -75,   95,   62,\n",
       "          33,  129,  -49,   67,  153,   48,   63,   30,   15,  -22,   64,\n",
       "          82,  -17,  -37,  117,   91,   13,   87,    6,   14,   68,  -43,\n",
       "          22,   80,  -30,  130,   43,    3,   20,   69,   43,   -5,   64,\n",
       "         146,  -39,    5,   -8,  117,   87,    8,   79,  -29,   -4,   41,\n",
       "         159,   79,  -44,   40,  -60,   48,    4,   53,   -9,  149,  137,\n",
       "          11,  -20,  118,   39,   80,  159,   78,   42,   -5,   83,   86,\n",
       "         107,   51,   30,   21,   85,   81,    3,   44,  102,   96,  170,\n",
       "          78,  -26,   10,   85,  140,   78,  -14,   -6,   82,   69,  -24,\n",
       "          57,    6,   70,   27,   63,  -34,   67,  -33,   -2,    2,  120,\n",
       "          33,   73,   55,   56,   37,   48,   52,  -29,  -19,  141,  -24,\n",
       "         100,   75,   52,   56,  -13,  110,   31,  101,  107,   75,   25,\n",
       "          50,  121,    4,  113,    5,   70,   27,   76,  157,  100,  -44,\n",
       "           0,  -13,   85,  130,   40,  141,   56,   60,   63,   50,   78,\n",
       "          79,   17,   -5,   77,    5,  -43,   24,   88,   65,  116,   28,\n",
       "          29,   99,   23,   51,  109,  -23,   21,   63,   12,   59,  138,\n",
       "         114,  -44,  -24,   68,   14,   19,   90,  109,   32,   60,  -16,\n",
       "         162,  140,   73,  100,   18,  154,   80,   -4,   30,    2,   28,\n",
       "         122,   34,    6,  -90,   54,   36,   21,  -19,   12,   32,   98,\n",
       "          29,    7,   76,   54,   -8,   12,   -8,  -64,   79,   70,   27,\n",
       "         107,    9,   80,   25,   61,  115,   79,   62,   10,    8,   76,\n",
       "         -23,  138,   69,   41,   59,   44,   71,   -3,   27,  119,  -50,\n",
       "          62,   12,   91,   31,   66,   88,  101,  174,    3,   85,  101,\n",
       "          50,   47,   87,  168,   56,   96,   32,  -36,   90,    7,  -26,\n",
       "          98,   37,   51,   56,   40,   56,   -4,  141,  -21,   97,   95,\n",
       "          91,   76,  -22,   86,  -11,   66,   99,   70,   23,  -18,  -60,\n",
       "          22,   91,   -4,    8,  -17,   87,  131,  100,  -32,  -43,   33,\n",
       "          52,   50,   87,    9,  118,   10,   52,   37,  -24,   36,   69,\n",
       "          33,  -14,  134,   18,   99,   38,   75,   19,  160,   36,   94,\n",
       "          63,   64,   76,   56,   84,   84,  132,   18,   80,   46,  107,\n",
       "          70,   98,    6,  122,  102,  102,   70,   13,   35,    8,    8,\n",
       "          42,   26,   51,  100,    4,  -70,  -19,  192,  111,  126,    6,\n",
       "          61,  -47,  102,   49,   62,  -30,   73,    9,  101,   52,   94,\n",
       "          24,   97,  -45,   80,   86,   43,  126,    4,  129,  124,   41,\n",
       "         211,   22,   70,   16,  -10,   25,  -68,   89,   84,   18,  100,\n",
       "           9,    9, -161,   60,   74,   89,   81,   46,   16,   17,   51,\n",
       "          33,    1,   63,   20,   57,  181,   26,   68,  126,  146,   31,\n",
       "          88,   37,   90,   90,  -29,  120,   53,   59,  -33,   53,  -17,\n",
       "          14,   56,   67,   76,   45,  123,   -1,   46,  149,    9,  128,\n",
       "          53,  153,  -29,   14,   70,   27,   59,  101,  105,   42,   43,\n",
       "          39,  130,   51,   66,   28,   16,   67,   68,  -51,   25,    3,\n",
       "          65,   68,  -24,   18,   54,   33,  -48,   82,   48,   55,   26,\n",
       "         111,   24,  -29,  103,   52,   13,   -1,   78,   39,   13,   63,\n",
       "         -50,    7,    0,   69,    4,   58,  140,   49,   42,   67,  109,\n",
       "         124,   63,   15,  -25,  -46,   42,  -56,   60,   -5,  -24,   77,\n",
       "           7,  178,  -55,  139,  -25,  -18,  114,   91,   46,  109,  131,\n",
       "         -37,  121,  115,    8,   81,   77,   24,  -31,    1,   58,  112,\n",
       "          39,  -17,   61,  -21,   83,   53,    0,   11,  -28,   14,  154,\n",
       "         155,   20,   17,  155,   56,   57,   43,    4,   10,   88,   13,\n",
       "          70,   92,   73,  103,   61,  115,   80,   95,   44,  -58,   76,\n",
       "          53,  -16,   70,   22,   25,  -60,  101,   78,  -35,   43,   41,\n",
       "         104,  113,    0,  -16,  138,  105,   81,  142,  105,  128,  -28,\n",
       "          16,   62,   97,    8,   47,  -38,  144,   59,  126,  173,   86,\n",
       "          54,   50,   72,   91,   83,  124,   70,   21,   81,   -5,   22,\n",
       "          59,  -39,   54,   17,  105,   94,   -5,  147,   21,   18,   62,\n",
       "         147,  -29,  103,   65,   -9,   -2,   43,   66,    9,   47,  126,\n",
       "          -6,   53,   17,   73,  -27,   29,  -53,  119,  101,  -30,  117,\n",
       "          43,   79,   18,   17,   88,   60,  122,  114,  -70,   45,   59,\n",
       "         105,   73,  -32,  137,   74,   72,   18,   21,   36,   58,    8,\n",
       "          50,   59,  166,   46,  105,   42,   88,   84,   30,   65,   62,\n",
       "         116,   86,   21,   18,  143,   61,   87,   23,   84,  -28,  -50,\n",
       "          43,   29,   98,   63,  -32,   69,   56,   89,   32,  -30,  119,\n",
       "          70,  -43,   78,   26,  122,   33,  139,  -44,   45, -105,   46,\n",
       "         -13,  -23,   -4,  104,    0,  119,  148,   47,   83,  -40,  -93,\n",
       "         211,   20,   33,   91,   54,   65,  113,   90,  109,   98,   63,\n",
       "          25,   82,   98,   14,   70,   12,   74,   31,   63,   21]))"
      ]
     },
     "execution_count": 103,
     "metadata": {},
     "output_type": "execute_result"
    }
   ],
   "source": [
    "x,y"
   ]
  },
  {
   "cell_type": "markdown",
   "id": "5045f371",
   "metadata": {},
   "source": [
    "Q2 Linear Regression from scratch"
   ]
  },
  {
   "cell_type": "code",
   "execution_count": 104,
   "id": "a18350fc",
   "metadata": {},
   "outputs": [],
   "source": [
    "inds = np.random.permutation(len(x))\n",
    "size = round(len(x)*0.7)\n",
    "train,test = inds[:size],inds[size:]"
   ]
  },
  {
   "cell_type": "code",
   "execution_count": 105,
   "id": "77b04d84",
   "metadata": {},
   "outputs": [],
   "source": [
    "x_train,x_test,y_train,y_test = x[train],x[test],y[train],y[test]"
   ]
  },
  {
   "cell_type": "code",
   "execution_count": 106,
   "id": "d6ee2ee4",
   "metadata": {},
   "outputs": [
    {
     "data": {
      "text/plain": [
       "(1.0177826171056197, -0.4327037093842421)"
      ]
     },
     "execution_count": 106,
     "metadata": {},
     "output_type": "execute_result"
    }
   ],
   "source": [
    "m_scr = ((x_train-x_train.mean())*(y_train-y_train.mean())).sum()/((x_train-x_train.mean())**2).sum()\n",
    "c_scr = y_train.mean()-(x_train.mean()*m_scr)\n",
    "m_scr,c_scr"
   ]
  },
  {
   "cell_type": "code",
   "execution_count": 107,
   "id": "74753aa8",
   "metadata": {},
   "outputs": [],
   "source": [
    "y_pred_scr = c_scr + (m_scr*x_test)"
   ]
  },
  {
   "cell_type": "code",
   "execution_count": 108,
   "id": "3f4590d0",
   "metadata": {},
   "outputs": [],
   "source": [
    "def accuracy(y_pred,y_test):\n",
    "    print(\"mae :\",np.abs(y_test-y_pred).mean())\n",
    "    print(\"rmse :\",(((y_test-y_pred)**2).mean())**0.5)"
   ]
  },
  {
   "cell_type": "code",
   "execution_count": 109,
   "id": "c107cfdc",
   "metadata": {},
   "outputs": [
    {
     "name": "stdout",
     "output_type": "stream",
     "text": [
      "mae : 35.92959369899332\n",
      "rmse : 45.94004940426813\n"
     ]
    }
   ],
   "source": [
    "accuracy(y_pred_scr,y_test)"
   ]
  },
  {
   "cell_type": "code",
   "execution_count": 110,
   "id": "8ef9ad55",
   "metadata": {},
   "outputs": [
    {
     "data": {
      "text/plain": [
       "<matplotlib.collections.PathCollection at 0x279c380cd30>"
      ]
     },
     "execution_count": 110,
     "metadata": {},
     "output_type": "execute_result"
    },
    {
     "data": {
      "image/png": "[encoded data removed]",
      "text/plain": [
       "<Figure size 640x480 with 1 Axes>"
      ]
     },
     "metadata": {},
     "output_type": "display_data"
    }
   ],
   "source": [
    "import matplotlib.pyplot as plt\n",
    "plt.plot(x_test,y_pred_scr,c=\"b\")\n",
    "plt.scatter(x_test,y_test,c=\"r\")"
   ]
  },
  {
   "cell_type": "markdown",
   "id": "9d889aa6",
   "metadata": {},
   "source": [
    "Q3 Gradient Descent"
   ]
  },
  {
   "cell_type": "code",
   "execution_count": 111,
   "id": "89a88bc6",
   "metadata": {},
   "outputs": [],
   "source": [
    "m_gd,c_gd = 0,0"
   ]
  },
  {
   "cell_type": "code",
   "execution_count": 112,
   "id": "34842981",
   "metadata": {},
   "outputs": [],
   "source": [
    "l = 0.0001\n",
    "epochs = 30000\n",
    "n = float(len(x_train))"
   ]
  },
  {
   "cell_type": "code",
   "execution_count": 113,
   "id": "8e739647",
   "metadata": {},
   "outputs": [],
   "source": [
    "for i in range(epochs): \n",
    "    y_p= m_gd*x_train + c_gd\n",
    "    D_m = (-2/n) * sum(x_train * (y_train - y_p))\n",
    "    D_c = (-2/n) * sum(y_train - y_p)\n",
    "    m_gd = m_gd - l * D_m\n",
    "    c_gd = c_gd - l * D_c"
   ]
  },
  {
   "cell_type": "code",
   "execution_count": 114,
   "id": "498107af",
   "metadata": {},
   "outputs": [
    {
     "data": {
      "text/plain": [
       "(1.016220562046744, -0.3299463535503991)"
      ]
     },
     "execution_count": 114,
     "metadata": {},
     "output_type": "execute_result"
    }
   ],
   "source": [
    "m_gd,c_gd"
   ]
  },
  {
   "cell_type": "code",
   "execution_count": 115,
   "id": "31fd657d",
   "metadata": {},
   "outputs": [],
   "source": [
    "y_pred_gd = m_gd*x_test + c_gd"
   ]
  },
  {
   "cell_type": "code",
   "execution_count": 131,
   "id": "c25ee525",
   "metadata": {},
   "outputs": [
    {
     "data": {
      "text/plain": [
       "<matplotlib.collections.PathCollection at 0x279c3db9550>"
      ]
     },
     "execution_count": 131,
     "metadata": {},
     "output_type": "execute_result"
    },
    {
     "data": {
      "image/png": "[encoded data removed]",
      "text/plain": [
       "<Figure size 640x480 with 1 Axes>"
      ]
     },
     "metadata": {},
     "output_type": "display_data"
    }
   ],
   "source": [
    "plt.plot(x_test,y_pred_gd,c=\"g\")\n",
    "plt.scatter(x_test,y_test,c=\"y\")"
   ]
  },
  {
   "cell_type": "code",
   "execution_count": 117,
   "id": "ec8c26c9",
   "metadata": {},
   "outputs": [
    {
     "name": "stdout",
     "output_type": "stream",
     "text": [
      "mae : 35.92548881006043\n",
      "rmse : 45.937262361862075\n"
     ]
    }
   ],
   "source": [
    "accuracy(y_pred_gd,y_test)"
   ]
  },
  {
   "cell_type": "markdown",
   "id": "56a63175",
   "metadata": {},
   "source": [
    "Q4 SKLearn Module"
   ]
  },
  {
   "cell_type": "code",
   "execution_count": 118,
   "id": "89ba53e4",
   "metadata": {},
   "outputs": [
    {
     "data": {
      "text/plain": [
       "LinearRegression()"
      ]
     },
     "execution_count": 118,
     "metadata": {},
     "output_type": "execute_result"
    }
   ],
   "source": [
    "from sklearn.linear_model import LinearRegression\n",
    "reg = LinearRegression()\n",
    "\n",
    "reg.fit(x_train.reshape(-1,1),y_train.reshape(-1,1))"
   ]
  },
  {
   "cell_type": "code",
   "execution_count": 119,
   "id": "810387ac",
   "metadata": {},
   "outputs": [],
   "source": [
    "c_skl = reg.intercept_[0]\n",
    "m_skl = reg.coef_[0,0]"
   ]
  },
  {
   "cell_type": "code",
   "execution_count": 120,
   "id": "5e4cacdc",
   "metadata": {},
   "outputs": [],
   "source": [
    "y_pred_skl = reg.predict(x_test.reshape(-1,1))"
   ]
  },
  {
   "cell_type": "code",
   "execution_count": 121,
   "id": "4c4d064f",
   "metadata": {},
   "outputs": [
    {
     "name": "stdout",
     "output_type": "stream",
     "text": [
      "mae : 47.90366692864159\n",
      "rmse : 59.74223506784831\n"
     ]
    }
   ],
   "source": [
    "accuracy(y_pred_skl,y_test)"
   ]
  },
  {
   "cell_type": "code",
   "execution_count": 128,
   "id": "7e79da6b",
   "metadata": {},
   "outputs": [
    {
     "data": {
      "text/plain": [
       "[<matplotlib.lines.Line2D at 0x279c3c3d7c0>]"
      ]
     },
     "execution_count": 128,
     "metadata": {},
     "output_type": "execute_result"
    },
    {
     "data": {
      "image/png": "[encoded data removed]",
      "text/plain": [
       "<Figure size 640x480 with 1 Axes>"
      ]
     },
     "metadata": {},
     "output_type": "display_data"
    }
   ],
   "source": [
    "plt.scatter(x_test,y_test,c=\"g\")\n",
    "plt.plot(x_test,y_pred_skl,c=\"r\")"
   ]
  },
  {
   "cell_type": "code",
   "execution_count": 124,
   "id": "08663841",
   "metadata": {},
   "outputs": [
    {
     "name": "stdout",
     "output_type": "stream",
     "text": [
      "Linear Reg from Scratch :\n",
      "\tSlope 1.0177826171056197\n",
      "\tIntercept: -0.4327037093842421\n",
      "Gradient Descent Method :\n",
      "\tSlope 1.016220562046744\n",
      "\tIntercept: -0.3299463535503991\n",
      "SKLearn Method :\n",
      "\tSlope 1.01778261710562\n",
      "\tIntercept: -0.4327037093842563\n"
     ]
    }
   ],
   "source": [
    "print(\"Linear Reg from Scratch :\")\n",
    "print(\"\\tSlope\",m_scr)\n",
    "print(\"\\tIntercept:\",c_scr)\n",
    "print(\"Gradient Descent Method :\")\n",
    "print(\"\\tSlope\",m_gd)\n",
    "print(\"\\tIntercept:\",c_gd)\n",
    "print(\"SKLearn Method :\")\n",
    "print(\"\\tSlope\",m_skl)\n",
    "print(\"\\tIntercept:\",c_skl)"
   ]
  },
  {
   "cell_type": "code",
   "execution_count": null,
   "id": "604b8cdb",
   "metadata": {},
   "outputs": [],
   "source": []
  }
 ],
 "metadata": {
  "kernelspec": {
   "display_name": "Python 3 (ipykernel)",
   "language": "python",
   "name": "python3"
  },
  "language_info": {
   "codemirror_mode": {
    "name": "ipython",
    "version": 3
   },
   "file_extension": ".py",
   "mimetype": "text/x-python",
   "name": "python",
   "nbconvert_exporter": "python",
   "pygments_lexer": "ipython3",
   "version": "3.9.13"
  },
  "vscode": {
   "interpreter": {
    "hash": "9e4b097fbea3519df52ca16fd60b0c5af84cd55e500f3252ed668c7c14f33404"
   }
  }
 },
 "nbformat": 4,
 "nbformat_minor": 5
}
